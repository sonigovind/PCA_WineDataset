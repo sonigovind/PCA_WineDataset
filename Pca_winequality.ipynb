{
  "nbformat": 4,
  "nbformat_minor": 0,
  "metadata": {
    "colab": {
      "name": "Sanjeev.ipynb",
      "provenance": [],
      "collapsed_sections": []
    },
    "kernelspec": {
      "name": "python3",
      "display_name": "Python 3"
    },
    "language_info": {
      "name": "python"
    }
  },
  "cells": [
    {
      "cell_type": "code",
      "metadata": {
        "colab": {
          "base_uri": "https://localhost:8080/",
          "height": 225
        },
        "id": "06CJgjd5sbC7",
        "outputId": "5290bdf9-f819-41d9-9a7d-d26fb083fade"
      },
      "source": [
        "import numpy as np\n",
        "import pandas as pd\n",
        "import matplotlib.pyplot as plt\n",
        "from sklearn.metrics import accuracy_score\n",
        "from matplotlib.colors import ListedColormap\n",
        "dataset = pd.read_csv('/content/wine.csv')\n",
        "dataset.head()\n",
        "\n"
      ],
      "execution_count": 8,
      "outputs": [
        {
          "output_type": "execute_result",
          "data": {
            "text/html": [
              "<div>\n",
              "<style scoped>\n",
              "    .dataframe tbody tr th:only-of-type {\n",
              "        vertical-align: middle;\n",
              "    }\n",
              "\n",
              "    .dataframe tbody tr th {\n",
              "        vertical-align: top;\n",
              "    }\n",
              "\n",
              "    .dataframe thead th {\n",
              "        text-align: right;\n",
              "    }\n",
              "</style>\n",
              "<table border=\"1\" class=\"dataframe\">\n",
              "  <thead>\n",
              "    <tr style=\"text-align: right;\">\n",
              "      <th></th>\n",
              "      <th>Wine</th>\n",
              "      <th>Alcohol</th>\n",
              "      <th>Malic.acid</th>\n",
              "      <th>Ash</th>\n",
              "      <th>Acl</th>\n",
              "      <th>Mg</th>\n",
              "      <th>Phenols</th>\n",
              "      <th>Flavanoids</th>\n",
              "      <th>Nonflavanoid.phenols</th>\n",
              "      <th>Proanth</th>\n",
              "      <th>Color.int</th>\n",
              "      <th>Hue</th>\n",
              "      <th>OD</th>\n",
              "      <th>Proline</th>\n",
              "    </tr>\n",
              "  </thead>\n",
              "  <tbody>\n",
              "    <tr>\n",
              "      <th>0</th>\n",
              "      <td>1</td>\n",
              "      <td>14.23</td>\n",
              "      <td>1.71</td>\n",
              "      <td>2.43</td>\n",
              "      <td>15.6</td>\n",
              "      <td>127</td>\n",
              "      <td>2.80</td>\n",
              "      <td>3.06</td>\n",
              "      <td>0.28</td>\n",
              "      <td>2.29</td>\n",
              "      <td>5.64</td>\n",
              "      <td>1.04</td>\n",
              "      <td>3.92</td>\n",
              "      <td>1065</td>\n",
              "    </tr>\n",
              "    <tr>\n",
              "      <th>1</th>\n",
              "      <td>1</td>\n",
              "      <td>13.20</td>\n",
              "      <td>1.78</td>\n",
              "      <td>2.14</td>\n",
              "      <td>11.2</td>\n",
              "      <td>100</td>\n",
              "      <td>2.65</td>\n",
              "      <td>2.76</td>\n",
              "      <td>0.26</td>\n",
              "      <td>1.28</td>\n",
              "      <td>4.38</td>\n",
              "      <td>1.05</td>\n",
              "      <td>3.40</td>\n",
              "      <td>1050</td>\n",
              "    </tr>\n",
              "    <tr>\n",
              "      <th>2</th>\n",
              "      <td>1</td>\n",
              "      <td>13.16</td>\n",
              "      <td>2.36</td>\n",
              "      <td>2.67</td>\n",
              "      <td>18.6</td>\n",
              "      <td>101</td>\n",
              "      <td>2.80</td>\n",
              "      <td>3.24</td>\n",
              "      <td>0.30</td>\n",
              "      <td>2.81</td>\n",
              "      <td>5.68</td>\n",
              "      <td>1.03</td>\n",
              "      <td>3.17</td>\n",
              "      <td>1185</td>\n",
              "    </tr>\n",
              "    <tr>\n",
              "      <th>3</th>\n",
              "      <td>1</td>\n",
              "      <td>14.37</td>\n",
              "      <td>1.95</td>\n",
              "      <td>2.50</td>\n",
              "      <td>16.8</td>\n",
              "      <td>113</td>\n",
              "      <td>3.85</td>\n",
              "      <td>3.49</td>\n",
              "      <td>0.24</td>\n",
              "      <td>2.18</td>\n",
              "      <td>7.80</td>\n",
              "      <td>0.86</td>\n",
              "      <td>3.45</td>\n",
              "      <td>1480</td>\n",
              "    </tr>\n",
              "    <tr>\n",
              "      <th>4</th>\n",
              "      <td>1</td>\n",
              "      <td>13.24</td>\n",
              "      <td>2.59</td>\n",
              "      <td>2.87</td>\n",
              "      <td>21.0</td>\n",
              "      <td>118</td>\n",
              "      <td>2.80</td>\n",
              "      <td>2.69</td>\n",
              "      <td>0.39</td>\n",
              "      <td>1.82</td>\n",
              "      <td>4.32</td>\n",
              "      <td>1.04</td>\n",
              "      <td>2.93</td>\n",
              "      <td>735</td>\n",
              "    </tr>\n",
              "  </tbody>\n",
              "</table>\n",
              "</div>"
            ],
            "text/plain": [
              "   Wine  Alcohol  Malic.acid   Ash  ...  Color.int   Hue    OD  Proline\n",
              "0     1    14.23        1.71  2.43  ...       5.64  1.04  3.92     1065\n",
              "1     1    13.20        1.78  2.14  ...       4.38  1.05  3.40     1050\n",
              "2     1    13.16        2.36  2.67  ...       5.68  1.03  3.17     1185\n",
              "3     1    14.37        1.95  2.50  ...       7.80  0.86  3.45     1480\n",
              "4     1    13.24        2.59  2.87  ...       4.32  1.04  2.93      735\n",
              "\n",
              "[5 rows x 14 columns]"
            ]
          },
          "metadata": {},
          "execution_count": 8
        }
      ]
    },
    {
      "cell_type": "code",
      "metadata": {
        "id": "mdV-8dEvXIUY"
      },
      "source": [
        "#split into dependant and independent variable\n",
        "y=dataset[['Wine']]\n",
        "x=dataset.drop('Wine', axis=1)\n"
      ],
      "execution_count": 18,
      "outputs": []
    },
    {
      "cell_type": "code",
      "metadata": {
        "colab": {
          "base_uri": "https://localhost:8080/",
          "height": 225
        },
        "id": "SGxTq9C4Xasn",
        "outputId": "cc0230ee-91f1-4deb-e484-dc81aebe5de4"
      },
      "source": [
        "x.head(5)"
      ],
      "execution_count": 21,
      "outputs": [
        {
          "output_type": "execute_result",
          "data": {
            "text/html": [
              "<div>\n",
              "<style scoped>\n",
              "    .dataframe tbody tr th:only-of-type {\n",
              "        vertical-align: middle;\n",
              "    }\n",
              "\n",
              "    .dataframe tbody tr th {\n",
              "        vertical-align: top;\n",
              "    }\n",
              "\n",
              "    .dataframe thead th {\n",
              "        text-align: right;\n",
              "    }\n",
              "</style>\n",
              "<table border=\"1\" class=\"dataframe\">\n",
              "  <thead>\n",
              "    <tr style=\"text-align: right;\">\n",
              "      <th></th>\n",
              "      <th>Alcohol</th>\n",
              "      <th>Malic.acid</th>\n",
              "      <th>Ash</th>\n",
              "      <th>Acl</th>\n",
              "      <th>Mg</th>\n",
              "      <th>Phenols</th>\n",
              "      <th>Flavanoids</th>\n",
              "      <th>Nonflavanoid.phenols</th>\n",
              "      <th>Proanth</th>\n",
              "      <th>Color.int</th>\n",
              "      <th>Hue</th>\n",
              "      <th>OD</th>\n",
              "      <th>Proline</th>\n",
              "    </tr>\n",
              "  </thead>\n",
              "  <tbody>\n",
              "    <tr>\n",
              "      <th>0</th>\n",
              "      <td>14.23</td>\n",
              "      <td>1.71</td>\n",
              "      <td>2.43</td>\n",
              "      <td>15.6</td>\n",
              "      <td>127</td>\n",
              "      <td>2.80</td>\n",
              "      <td>3.06</td>\n",
              "      <td>0.28</td>\n",
              "      <td>2.29</td>\n",
              "      <td>5.64</td>\n",
              "      <td>1.04</td>\n",
              "      <td>3.92</td>\n",
              "      <td>1065</td>\n",
              "    </tr>\n",
              "    <tr>\n",
              "      <th>1</th>\n",
              "      <td>13.20</td>\n",
              "      <td>1.78</td>\n",
              "      <td>2.14</td>\n",
              "      <td>11.2</td>\n",
              "      <td>100</td>\n",
              "      <td>2.65</td>\n",
              "      <td>2.76</td>\n",
              "      <td>0.26</td>\n",
              "      <td>1.28</td>\n",
              "      <td>4.38</td>\n",
              "      <td>1.05</td>\n",
              "      <td>3.40</td>\n",
              "      <td>1050</td>\n",
              "    </tr>\n",
              "    <tr>\n",
              "      <th>2</th>\n",
              "      <td>13.16</td>\n",
              "      <td>2.36</td>\n",
              "      <td>2.67</td>\n",
              "      <td>18.6</td>\n",
              "      <td>101</td>\n",
              "      <td>2.80</td>\n",
              "      <td>3.24</td>\n",
              "      <td>0.30</td>\n",
              "      <td>2.81</td>\n",
              "      <td>5.68</td>\n",
              "      <td>1.03</td>\n",
              "      <td>3.17</td>\n",
              "      <td>1185</td>\n",
              "    </tr>\n",
              "    <tr>\n",
              "      <th>3</th>\n",
              "      <td>14.37</td>\n",
              "      <td>1.95</td>\n",
              "      <td>2.50</td>\n",
              "      <td>16.8</td>\n",
              "      <td>113</td>\n",
              "      <td>3.85</td>\n",
              "      <td>3.49</td>\n",
              "      <td>0.24</td>\n",
              "      <td>2.18</td>\n",
              "      <td>7.80</td>\n",
              "      <td>0.86</td>\n",
              "      <td>3.45</td>\n",
              "      <td>1480</td>\n",
              "    </tr>\n",
              "    <tr>\n",
              "      <th>4</th>\n",
              "      <td>13.24</td>\n",
              "      <td>2.59</td>\n",
              "      <td>2.87</td>\n",
              "      <td>21.0</td>\n",
              "      <td>118</td>\n",
              "      <td>2.80</td>\n",
              "      <td>2.69</td>\n",
              "      <td>0.39</td>\n",
              "      <td>1.82</td>\n",
              "      <td>4.32</td>\n",
              "      <td>1.04</td>\n",
              "      <td>2.93</td>\n",
              "      <td>735</td>\n",
              "    </tr>\n",
              "  </tbody>\n",
              "</table>\n",
              "</div>"
            ],
            "text/plain": [
              "   Alcohol  Malic.acid   Ash   Acl  ...  Color.int   Hue    OD  Proline\n",
              "0    14.23        1.71  2.43  15.6  ...       5.64  1.04  3.92     1065\n",
              "1    13.20        1.78  2.14  11.2  ...       4.38  1.05  3.40     1050\n",
              "2    13.16        2.36  2.67  18.6  ...       5.68  1.03  3.17     1185\n",
              "3    14.37        1.95  2.50  16.8  ...       7.80  0.86  3.45     1480\n",
              "4    13.24        2.59  2.87  21.0  ...       4.32  1.04  2.93      735\n",
              "\n",
              "[5 rows x 13 columns]"
            ]
          },
          "metadata": {},
          "execution_count": 21
        }
      ]
    },
    {
      "cell_type": "code",
      "metadata": {
        "colab": {
          "base_uri": "https://localhost:8080/",
          "height": 205
        },
        "id": "8qjIQKkJXcAt",
        "outputId": "6d8c8f5c-1b5f-42d3-f9c1-23823c535025"
      },
      "source": [
        "y.head(5)"
      ],
      "execution_count": 22,
      "outputs": [
        {
          "output_type": "execute_result",
          "data": {
            "text/html": [
              "<div>\n",
              "<style scoped>\n",
              "    .dataframe tbody tr th:only-of-type {\n",
              "        vertical-align: middle;\n",
              "    }\n",
              "\n",
              "    .dataframe tbody tr th {\n",
              "        vertical-align: top;\n",
              "    }\n",
              "\n",
              "    .dataframe thead th {\n",
              "        text-align: right;\n",
              "    }\n",
              "</style>\n",
              "<table border=\"1\" class=\"dataframe\">\n",
              "  <thead>\n",
              "    <tr style=\"text-align: right;\">\n",
              "      <th></th>\n",
              "      <th>Wine</th>\n",
              "    </tr>\n",
              "  </thead>\n",
              "  <tbody>\n",
              "    <tr>\n",
              "      <th>0</th>\n",
              "      <td>1</td>\n",
              "    </tr>\n",
              "    <tr>\n",
              "      <th>1</th>\n",
              "      <td>1</td>\n",
              "    </tr>\n",
              "    <tr>\n",
              "      <th>2</th>\n",
              "      <td>1</td>\n",
              "    </tr>\n",
              "    <tr>\n",
              "      <th>3</th>\n",
              "      <td>1</td>\n",
              "    </tr>\n",
              "    <tr>\n",
              "      <th>4</th>\n",
              "      <td>1</td>\n",
              "    </tr>\n",
              "  </tbody>\n",
              "</table>\n",
              "</div>"
            ],
            "text/plain": [
              "   Wine\n",
              "0     1\n",
              "1     1\n",
              "2     1\n",
              "3     1\n",
              "4     1"
            ]
          },
          "metadata": {},
          "execution_count": 22
        }
      ]
    },
    {
      "cell_type": "code",
      "metadata": {
        "colab": {
          "base_uri": "https://localhost:8080/"
        },
        "id": "z17MPdNxXeWT",
        "outputId": "238039d1-b7e1-45a2-d1b6-ce9d105967e3"
      },
      "source": [
        "correlation_matrix = x.corr() #Transposing Features and passing it into numpy Covarience matrix\n",
        "print(correlation_matrix)"
      ],
      "execution_count": 23,
      "outputs": [
        {
          "output_type": "stream",
          "text": [
            "                       Alcohol  Malic.acid  ...        OD   Proline\n",
            "Alcohol               1.000000    0.094397  ...  0.072343  0.643720\n",
            "Malic.acid            0.094397    1.000000  ... -0.368710 -0.192011\n",
            "Ash                   0.211545    0.164045  ...  0.003911  0.223626\n",
            "Acl                  -0.310235    0.288500  ... -0.276769 -0.440597\n",
            "Mg                    0.270798   -0.054575  ...  0.066004  0.393351\n",
            "Phenols               0.289101   -0.335167  ...  0.699949  0.498115\n",
            "Flavanoids            0.236815   -0.411007  ...  0.787194  0.494193\n",
            "Nonflavanoid.phenols -0.155929    0.292977  ... -0.503270 -0.311385\n",
            "Proanth               0.136698   -0.220746  ...  0.519067  0.330417\n",
            "Color.int             0.546364    0.248985  ... -0.428815  0.316100\n",
            "Hue                  -0.071747   -0.561296  ...  0.565468  0.236183\n",
            "OD                    0.072343   -0.368710  ...  1.000000  0.312761\n",
            "Proline               0.643720   -0.192011  ...  0.312761  1.000000\n",
            "\n",
            "[13 rows x 13 columns]\n"
          ],
          "name": "stdout"
        }
      ]
    },
    {
      "cell_type": "code",
      "metadata": {
        "id": "21jcdIvNbSJD"
      },
      "source": [
        "eig_values, eig_vectors = np.linalg.eig(correlation_matrix)"
      ],
      "execution_count": 24,
      "outputs": []
    },
    {
      "cell_type": "code",
      "metadata": {
        "colab": {
          "base_uri": "https://localhost:8080/"
        },
        "id": "JFB8TLwGbWso",
        "outputId": "0c0ed236-4ef9-40c1-86b6-8b1733e09307"
      },
      "source": [
        "print('Eigenvectors \\n%s' %eig_vectors)"
      ],
      "execution_count": 25,
      "outputs": [
        {
          "output_type": "stream",
          "text": [
            "Eigenvectors \n",
            "[[-0.1443294  -0.48365155  0.20738262 -0.0178563   0.26566365 -0.21353865\n",
            "  -0.05639636  0.01496997 -0.39613926  0.26628645  0.50861912 -0.22591696\n",
            "   0.21160473]\n",
            " [ 0.24518758 -0.22493093 -0.08901289  0.53689028 -0.03521363 -0.53681385\n",
            "   0.42052391  0.02596375 -0.06582674 -0.12169604 -0.07528304  0.07648554\n",
            "  -0.30907994]\n",
            " [ 0.00205106 -0.31606881 -0.6262239  -0.21417556  0.14302547 -0.15447466\n",
            "  -0.14917061 -0.14121803  0.17026002  0.04962237 -0.30769445 -0.49869142\n",
            "  -0.02712539]\n",
            " [ 0.23932041  0.0105905  -0.61208035  0.06085941 -0.06610294  0.10082451\n",
            "  -0.28696914  0.09168285 -0.42797018  0.05574287  0.20044931  0.47931378\n",
            "   0.05279942]\n",
            " [-0.14199204 -0.299634   -0.13075693 -0.35179658 -0.72704851 -0.03814394\n",
            "   0.3228833   0.05677422  0.15636143 -0.06222011  0.27140257  0.07128891\n",
            "   0.06787022]\n",
            " [-0.39466085 -0.06503951 -0.14617896  0.19806835  0.14931841  0.0841223\n",
            "  -0.02792498 -0.46390791  0.40593409  0.30388245  0.28603452  0.30434119\n",
            "  -0.32013135]\n",
            " [-0.4229343   0.00335981 -0.1506819   0.15229479  0.10902584  0.01892002\n",
            "  -0.06068521  0.83225706  0.18724536  0.04289883  0.04957849 -0.02569409\n",
            "  -0.16315051]\n",
            " [ 0.2985331  -0.02877949 -0.17036816 -0.20330102  0.50070298  0.25859401\n",
            "   0.59544729  0.11403985  0.23328465 -0.04235219  0.19550132  0.11689586\n",
            "   0.21553507]\n",
            " [-0.31342949 -0.03930172 -0.14945431  0.39905653 -0.13685982  0.53379539\n",
            "   0.37213935 -0.11691707 -0.36822675  0.09555303 -0.20914487 -0.23736257\n",
            "   0.1341839 ]\n",
            " [ 0.0886167  -0.52999567  0.13730621  0.06592568  0.07643678  0.41864414\n",
            "  -0.22771214 -0.0119928   0.03379692 -0.60422163  0.05621752  0.0318388\n",
            "  -0.29077518]\n",
            " [-0.29671456  0.27923515 -0.08522192 -0.42777141  0.17361452 -0.10598274\n",
            "   0.23207564 -0.08988884 -0.43662362 -0.259214    0.08582839 -0.04821201\n",
            "  -0.52239889]\n",
            " [-0.37616741  0.16449619 -0.16600459  0.18412074  0.10116099 -0.26585107\n",
            "  -0.0447637  -0.15671813  0.07810789 -0.60095872  0.1372269   0.0464233\n",
            "   0.52370587]\n",
            " [-0.28675223 -0.36490283  0.12674592 -0.23207086  0.1578688  -0.11972557\n",
            "   0.0768045   0.01444734 -0.12002267  0.07940162 -0.57578611  0.53926983\n",
            "   0.162116  ]]\n"
          ],
          "name": "stdout"
        }
      ]
    },
    {
      "cell_type": "code",
      "metadata": {
        "colab": {
          "base_uri": "https://localhost:8080/"
        },
        "id": "9mWd5-KEbagd",
        "outputId": "a6a8fc4d-bfe7-477e-9c15-e34869772c7f"
      },
      "source": [
        "eig_values"
      ],
      "execution_count": 26,
      "outputs": [
        {
          "output_type": "execute_result",
          "data": {
            "text/plain": [
              "array([4.70585025, 2.49697373, 1.44607197, 0.91897392, 0.85322818,\n",
              "       0.64165703, 0.55102831, 0.10337794, 0.34849736, 0.16877023,\n",
              "       0.28887994, 0.22578864, 0.25090248])"
            ]
          },
          "metadata": {},
          "execution_count": 26
        }
      ]
    },
    {
      "cell_type": "code",
      "metadata": {
        "id": "vdrAEMqGbf2F"
      },
      "source": [
        "eig_values=np.sort(eig_values)"
      ],
      "execution_count": 27,
      "outputs": []
    },
    {
      "cell_type": "code",
      "metadata": {
        "colab": {
          "base_uri": "https://localhost:8080/"
        },
        "id": "UYKh9iu7bi0y",
        "outputId": "4f1b4281-1fbe-4bda-c4af-ff28428f4e97"
      },
      "source": [
        "print('\\n  Eigen Values \\n %s' %np.sort(eig_values))"
      ],
      "execution_count": 28,
      "outputs": [
        {
          "output_type": "stream",
          "text": [
            "\n",
            "  Eigen Values \n",
            " [0.10337794 0.16877023 0.22578864 0.25090248 0.28887994 0.34849736\n",
            " 0.55102831 0.64165703 0.85322818 0.91897392 1.44607197 2.49697373\n",
            " 4.70585025]\n"
          ],
          "name": "stdout"
        }
      ]
    },
    {
      "cell_type": "code",
      "metadata": {
        "colab": {
          "base_uri": "https://localhost:8080/"
        },
        "id": "rPzJhcYVbnHi",
        "outputId": "a89bab4d-f59c-4e38-df34-a86d93855e97"
      },
      "source": [
        "# I reduce dimension to 2 dimension, since 2 eigenvector has 67.85% variances\n",
        "(100*((eig_values[3]+eig_values[2] )/ sum(eig_values)))\n"
      ],
      "execution_count": 29,
      "outputs": [
        {
          "output_type": "execute_result",
          "data": {
            "text/plain": [
              "3.6668547839339913"
            ]
          },
          "metadata": {},
          "execution_count": 29
        }
      ]
    },
    {
      "cell_type": "code",
      "metadata": {
        "colab": {
          "base_uri": "https://localhost:8080/"
        },
        "id": "mfq-RAHFbxvD",
        "outputId": "b39b76ad-50dd-4366-aea5-a606d2c033fa"
      },
      "source": [
        "eig_vectors.T[0]"
      ],
      "execution_count": 30,
      "outputs": [
        {
          "output_type": "execute_result",
          "data": {
            "text/plain": [
              "array([-0.1443294 ,  0.24518758,  0.00205106,  0.23932041, -0.14199204,\n",
              "       -0.39466085, -0.4229343 ,  0.2985331 , -0.31342949,  0.0886167 ,\n",
              "       -0.29671456, -0.37616741, -0.28675223])"
            ]
          },
          "metadata": {},
          "execution_count": 30
        }
      ]
    },
    {
      "cell_type": "code",
      "metadata": {
        "colab": {
          "base_uri": "https://localhost:8080/"
        },
        "id": "9YcDNFl-b4IE",
        "outputId": "8949ecd8-3a4d-4193-f94e-0c71873a75fe"
      },
      "source": [
        "eig_vectors.T[2]"
      ],
      "execution_count": 31,
      "outputs": [
        {
          "output_type": "execute_result",
          "data": {
            "text/plain": [
              "array([ 0.20738262, -0.08901289, -0.6262239 , -0.61208035, -0.13075693,\n",
              "       -0.14617896, -0.1506819 , -0.17036816, -0.14945431,  0.13730621,\n",
              "       -0.08522192, -0.16600459,  0.12674592])"
            ]
          },
          "metadata": {},
          "execution_count": 31
        }
      ]
    },
    {
      "cell_type": "code",
      "metadata": {
        "id": "ja4T1tpRb7g4"
      },
      "source": [
        "PC1 = x.dot(eig_vectors.T[0])"
      ],
      "execution_count": 33,
      "outputs": []
    },
    {
      "cell_type": "code",
      "metadata": {
        "id": "GgLinu7_b-FA"
      },
      "source": [
        "PC2 = x.dot(eig_vectors.T[2])"
      ],
      "execution_count": 34,
      "outputs": []
    },
    {
      "cell_type": "code",
      "metadata": {
        "colab": {
          "base_uri": "https://localhost:8080/"
        },
        "id": "GgoCDHcvcDjF",
        "outputId": "1563a2b5-7bce-41fd-93d5-ccec27bbbd4e"
      },
      "source": [
        "PC1"
      ],
      "execution_count": 35,
      "outputs": [
        {
          "output_type": "execute_result",
          "data": {
            "text/plain": [
              "0     -325.637020\n",
              "1     -317.812078\n",
              "2     -355.267740\n",
              "3     -442.477439\n",
              "4     -227.486905\n",
              "          ...    \n",
              "173   -222.628343\n",
              "174   -226.502009\n",
              "175   -253.624048\n",
              "176   -255.586884\n",
              "177   -170.731645\n",
              "Length: 178, dtype: float64"
            ]
          },
          "metadata": {},
          "execution_count": 35
        }
      ]
    },
    {
      "cell_type": "code",
      "metadata": {
        "id": "2q9YgIAEcHZ9"
      },
      "source": [
        "result = pd.DataFrame({'PC1':PC1,'PC2':PC2})\n",
        "result['Wine'] = y"
      ],
      "execution_count": 36,
      "outputs": []
    },
    {
      "cell_type": "code",
      "metadata": {
        "colab": {
          "base_uri": "https://localhost:8080/",
          "height": 675
        },
        "id": "fzaxitKtcP9p",
        "outputId": "a2158c7b-7500-43c5-a0fd-583869a67a63"
      },
      "source": [
        "result.head(20)"
      ],
      "execution_count": 37,
      "outputs": [
        {
          "output_type": "execute_result",
          "data": {
            "text/html": [
              "<div>\n",
              "<style scoped>\n",
              "    .dataframe tbody tr th:only-of-type {\n",
              "        vertical-align: middle;\n",
              "    }\n",
              "\n",
              "    .dataframe tbody tr th {\n",
              "        vertical-align: top;\n",
              "    }\n",
              "\n",
              "    .dataframe thead th {\n",
              "        text-align: right;\n",
              "    }\n",
              "</style>\n",
              "<table border=\"1\" class=\"dataframe\">\n",
              "  <thead>\n",
              "    <tr style=\"text-align: right;\">\n",
              "      <th></th>\n",
              "      <th>PC1</th>\n",
              "      <th>PC2</th>\n",
              "      <th>Wine</th>\n",
              "    </tr>\n",
              "  </thead>\n",
              "  <tbody>\n",
              "    <tr>\n",
              "      <th>0</th>\n",
              "      <td>-325.637020</td>\n",
              "      <td>108.881634</td>\n",
              "      <td>1</td>\n",
              "    </tr>\n",
              "    <tr>\n",
              "      <th>1</th>\n",
              "      <td>-317.812078</td>\n",
              "      <td>113.299757</td>\n",
              "      <td>1</td>\n",
              "    </tr>\n",
              "    <tr>\n",
              "      <th>2</th>\n",
              "      <td>-355.267740</td>\n",
              "      <td>125.247133</td>\n",
              "      <td>1</td>\n",
              "    </tr>\n",
              "    <tr>\n",
              "      <th>3</th>\n",
              "      <td>-442.477439</td>\n",
              "      <td>162.736042</td>\n",
              "      <td>1</td>\n",
              "    </tr>\n",
              "    <tr>\n",
              "      <th>4</th>\n",
              "      <td>-227.486905</td>\n",
              "      <td>64.458236</td>\n",
              "      <td>1</td>\n",
              "    </tr>\n",
              "    <tr>\n",
              "      <th>5</th>\n",
              "      <td>-433.694797</td>\n",
              "      <td>160.110158</td>\n",
              "      <td>1</td>\n",
              "    </tr>\n",
              "    <tr>\n",
              "      <th>6</th>\n",
              "      <td>-385.428472</td>\n",
              "      <td>142.244167</td>\n",
              "      <td>1</td>\n",
              "    </tr>\n",
              "    <tr>\n",
              "      <th>7</th>\n",
              "      <td>-389.410504</td>\n",
              "      <td>137.642593</td>\n",
              "      <td>1</td>\n",
              "    </tr>\n",
              "    <tr>\n",
              "      <th>8</th>\n",
              "      <td>-315.643798</td>\n",
              "      <td>111.712713</td>\n",
              "      <td>1</td>\n",
              "    </tr>\n",
              "    <tr>\n",
              "      <th>9</th>\n",
              "      <td>-315.424680</td>\n",
              "      <td>110.266374</td>\n",
              "      <td>1</td>\n",
              "    </tr>\n",
              "    <tr>\n",
              "      <th>10</th>\n",
              "      <td>-449.400456</td>\n",
              "      <td>166.762998</td>\n",
              "      <td>1</td>\n",
              "    </tr>\n",
              "    <tr>\n",
              "      <th>11</th>\n",
              "      <td>-381.457121</td>\n",
              "      <td>140.025578</td>\n",
              "      <td>1</td>\n",
              "    </tr>\n",
              "    <tr>\n",
              "      <th>12</th>\n",
              "      <td>-392.486520</td>\n",
              "      <td>146.135907</td>\n",
              "      <td>1</td>\n",
              "    </tr>\n",
              "    <tr>\n",
              "      <th>13</th>\n",
              "      <td>-346.113610</td>\n",
              "      <td>126.968772</td>\n",
              "      <td>1</td>\n",
              "    </tr>\n",
              "    <tr>\n",
              "      <th>14</th>\n",
              "      <td>-461.332086</td>\n",
              "      <td>175.625910</td>\n",
              "      <td>1</td>\n",
              "    </tr>\n",
              "    <tr>\n",
              "      <th>15</th>\n",
              "      <td>-392.489921</td>\n",
              "      <td>141.130050</td>\n",
              "      <td>1</td>\n",
              "    </tr>\n",
              "    <tr>\n",
              "      <th>16</th>\n",
              "      <td>-384.599968</td>\n",
              "      <td>134.480783</td>\n",
              "      <td>1</td>\n",
              "    </tr>\n",
              "    <tr>\n",
              "      <th>17</th>\n",
              "      <td>-340.917529</td>\n",
              "      <td>116.146410</td>\n",
              "      <td>1</td>\n",
              "    </tr>\n",
              "    <tr>\n",
              "      <th>18</th>\n",
              "      <td>-498.889941</td>\n",
              "      <td>189.174795</td>\n",
              "      <td>1</td>\n",
              "    </tr>\n",
              "    <tr>\n",
              "      <th>19</th>\n",
              "      <td>-260.255800</td>\n",
              "      <td>82.510867</td>\n",
              "      <td>1</td>\n",
              "    </tr>\n",
              "  </tbody>\n",
              "</table>\n",
              "</div>"
            ],
            "text/plain": [
              "           PC1         PC2  Wine\n",
              "0  -325.637020  108.881634     1\n",
              "1  -317.812078  113.299757     1\n",
              "2  -355.267740  125.247133     1\n",
              "3  -442.477439  162.736042     1\n",
              "4  -227.486905   64.458236     1\n",
              "5  -433.694797  160.110158     1\n",
              "6  -385.428472  142.244167     1\n",
              "7  -389.410504  137.642593     1\n",
              "8  -315.643798  111.712713     1\n",
              "9  -315.424680  110.266374     1\n",
              "10 -449.400456  166.762998     1\n",
              "11 -381.457121  140.025578     1\n",
              "12 -392.486520  146.135907     1\n",
              "13 -346.113610  126.968772     1\n",
              "14 -461.332086  175.625910     1\n",
              "15 -392.489921  141.130050     1\n",
              "16 -384.599968  134.480783     1\n",
              "17 -340.917529  116.146410     1\n",
              "18 -498.889941  189.174795     1\n",
              "19 -260.255800   82.510867     1"
            ]
          },
          "metadata": {},
          "execution_count": 37
        }
      ]
    },
    {
      "cell_type": "code",
      "metadata": {
        "id": "cRaywpy1cUIx"
      },
      "source": [
        "import matplotlib.pyplot as plt\n",
        "import seaborn as sns\n",
        "%matplotlib inline"
      ],
      "execution_count": 38,
      "outputs": []
    },
    {
      "cell_type": "code",
      "metadata": {
        "colab": {
          "base_uri": "https://localhost:8080/",
          "height": 515
        },
        "id": "VVZZtKezcjnc",
        "outputId": "ce6b11c6-28d9-4beb-d47c-ebce74de1c9e"
      },
      "source": [
        "import seaborn as sn\n",
        "sn.FacetGrid(result,hue=\"Wine\",size=6).map(plt.scatter,\"PC1\",\"PC2\").add_legend()"
      ],
      "execution_count": 43,
      "outputs": [
        {
          "output_type": "stream",
          "text": [
            "/usr/local/lib/python3.7/dist-packages/seaborn/axisgrid.py:316: UserWarning: The `size` parameter has been renamed to `height`; please update your code.\n",
            "  warnings.warn(msg, UserWarning)\n"
          ],
          "name": "stderr"
        },
        {
          "output_type": "execute_result",
          "data": {
            "text/plain": [
              "<seaborn.axisgrid.FacetGrid at 0x7f10dbf305d0>"
            ]
          },
          "metadata": {},
          "execution_count": 43
        },
        {
          "output_type": "display_data",
          "data": {
            "image/png": "[encoded data removed]",
            "text/plain": [
              "<Figure size 474.375x432 with 1 Axes>"
            ]
          },
          "metadata": {
            "needs_background": "light"
          }
        }
      ]
    },
    {
      "cell_type": "code",
      "metadata": {
        "colab": {
          "base_uri": "https://localhost:8080/",
          "height": 295
        },
        "id": "FR8E05AldGpo",
        "outputId": "0b1c35f1-b8c1-4612-c535-bb8e14e8e026"
      },
      "source": [
        "from pylab import *\n",
        "import random as pyrandom\n",
        "from scipy.spatial.distance import cdist\n",
        "matplotlib.rc(\"image\",cmap=\"gray\")\n",
        "from collections import Counter\n",
        "import pandas as pd\n",
        "import numpy as np\n",
        "import matplotlib.pyplot as plt\n",
        "X=result.iloc[:,0:2]\n",
        "\n",
        "from sklearn.cluster import KMeans\n",
        "wcss=[]\n",
        "for i in range (1,11):\n",
        "    kmeans=KMeans(n_clusters=i,init='k-means++',random_state=42)\n",
        "    kmeans.fit(X)\n",
        "    wcss.append(kmeans.inertia_)\n",
        "plt.plot(range(1,11),wcss)\n",
        "plt.title('The Elbow Method')\n",
        "plt.xlabel('Number of clusters')\n",
        "plt.ylabel('WCSS')\n",
        "plt.show()"
      ],
      "execution_count": 44,
      "outputs": [
        {
          "output_type": "display_data",
          "data": {
            "image/png": "[encoded data removed]",
            "text/plain": [
              "<Figure size 432x288 with 1 Axes>"
            ]
          },
          "metadata": {
            "needs_background": "light"
          }
        }
      ]
    },
    {
      "cell_type": "code",
      "metadata": {
        "colab": {
          "base_uri": "https://localhost:8080/"
        },
        "id": "Tgzx-FkpdntD",
        "outputId": "ae7e2c0d-6bcc-4273-dc76-037e91bde817"
      },
      "source": [
        "kmeans = KMeans(n_clusters = 2, init = 'k-means++', random_state = 42)\n",
        "y_kmeans = kmeans.fit_predict(X)\n",
        "print(y_kmeans)"
      ],
      "execution_count": 45,
      "outputs": [
        {
          "output_type": "stream",
          "text": [
            "[1 1 1 1 0 1 1 1 1 1 1 1 1 1 1 1 1 1 1 0 0 0 1 1 0 0 1 1 1 1 1 1 1 1 1 1 1\n",
            " 1 1 0 0 1 1 0 1 1 1 1 1 1 1 1 1 1 1 1 1 1 1 0 0 0 0 0 0 0 0 0 0 0 1 0 0 1\n",
            " 1 0 0 0 0 0 0 0 0 0 0 0 0 0 0 0 0 0 0 0 0 1 0 0 0 0 0 0 0 0 0 0 0 0 0 0 0\n",
            " 0 0 0 0 0 0 0 0 0 0 0 0 0 0 0 0 0 0 0 0 0 0 0 0 0 0 0 0 0 0 0 0 0 0 0 0 0\n",
            " 0 0 0 0 0 0 0 0 0 1 0 0 0 0 0 0 0 0 0 0 0 0 0 0 0 0 0 0 0 0]\n"
          ],
          "name": "stdout"
        }
      ]
    },
    {
      "cell_type": "code",
      "metadata": {
        "id": "B14pmuw_duRr"
      },
      "source": [
        "from pylab import *\n",
        "import random as pyrandom\n",
        "from scipy.spatial.distance import cdist\n",
        "matplotlib.rc(\"image\",cmap=\"gray\")\n",
        "from collections import Counter\n",
        "import numpy as np\n",
        "import pandas as pd"
      ],
      "execution_count": 47,
      "outputs": []
    },
    {
      "cell_type": "code",
      "metadata": {
        "colab": {
          "base_uri": "https://localhost:8080/",
          "height": 422
        },
        "id": "sQR9NuuOdzW-",
        "outputId": "583e5d4d-a208-498d-fe5a-a32f0b6ff55e"
      },
      "source": [
        "x = result.iloc[:,0:2] \n",
        "x"
      ],
      "execution_count": 49,
      "outputs": [
        {
          "output_type": "execute_result",
          "data": {
            "text/html": [
              "<div>\n",
              "<style scoped>\n",
              "    .dataframe tbody tr th:only-of-type {\n",
              "        vertical-align: middle;\n",
              "    }\n",
              "\n",
              "    .dataframe tbody tr th {\n",
              "        vertical-align: top;\n",
              "    }\n",
              "\n",
              "    .dataframe thead th {\n",
              "        text-align: right;\n",
              "    }\n",
              "</style>\n",
              "<table border=\"1\" class=\"dataframe\">\n",
              "  <thead>\n",
              "    <tr style=\"text-align: right;\">\n",
              "      <th></th>\n",
              "      <th>PC1</th>\n",
              "      <th>PC2</th>\n",
              "    </tr>\n",
              "  </thead>\n",
              "  <tbody>\n",
              "    <tr>\n",
              "      <th>0</th>\n",
              "      <td>-325.637020</td>\n",
              "      <td>108.881634</td>\n",
              "    </tr>\n",
              "    <tr>\n",
              "      <th>1</th>\n",
              "      <td>-317.812078</td>\n",
              "      <td>113.299757</td>\n",
              "    </tr>\n",
              "    <tr>\n",
              "      <th>2</th>\n",
              "      <td>-355.267740</td>\n",
              "      <td>125.247133</td>\n",
              "    </tr>\n",
              "    <tr>\n",
              "      <th>3</th>\n",
              "      <td>-442.477439</td>\n",
              "      <td>162.736042</td>\n",
              "    </tr>\n",
              "    <tr>\n",
              "      <th>4</th>\n",
              "      <td>-227.486905</td>\n",
              "      <td>64.458236</td>\n",
              "    </tr>\n",
              "    <tr>\n",
              "      <th>...</th>\n",
              "      <td>...</td>\n",
              "      <td>...</td>\n",
              "    </tr>\n",
              "    <tr>\n",
              "      <th>173</th>\n",
              "      <td>-222.628343</td>\n",
              "      <td>69.757825</td>\n",
              "    </tr>\n",
              "    <tr>\n",
              "      <th>174</th>\n",
              "      <td>-226.502009</td>\n",
              "      <td>68.545825</td>\n",
              "    </tr>\n",
              "    <tr>\n",
              "      <th>175</th>\n",
              "      <td>-253.624048</td>\n",
              "      <td>79.335987</td>\n",
              "    </tr>\n",
              "    <tr>\n",
              "      <th>176</th>\n",
              "      <td>-255.586884</td>\n",
              "      <td>79.855396</td>\n",
              "    </tr>\n",
              "    <tr>\n",
              "      <th>177</th>\n",
              "      <td>-170.731645</td>\n",
              "      <td>44.512859</td>\n",
              "    </tr>\n",
              "  </tbody>\n",
              "</table>\n",
              "<p>178 rows × 2 columns</p>\n",
              "</div>"
            ],
            "text/plain": [
              "            PC1         PC2\n",
              "0   -325.637020  108.881634\n",
              "1   -317.812078  113.299757\n",
              "2   -355.267740  125.247133\n",
              "3   -442.477439  162.736042\n",
              "4   -227.486905   64.458236\n",
              "..          ...         ...\n",
              "173 -222.628343   69.757825\n",
              "174 -226.502009   68.545825\n",
              "175 -253.624048   79.335987\n",
              "176 -255.586884   79.855396\n",
              "177 -170.731645   44.512859\n",
              "\n",
              "[178 rows x 2 columns]"
            ]
          },
          "metadata": {},
          "execution_count": 49
        }
      ]
    },
    {
      "cell_type": "code",
      "metadata": {
        "colab": {
          "base_uri": "https://localhost:8080/"
        },
        "id": "-VplIjI4emPS",
        "outputId": "0f80103a-5074-413f-b234-47abd6fddb93"
      },
      "source": [
        "kmeans = KMeans(2)\n",
        "kmeans.fit(x)"
      ],
      "execution_count": 51,
      "outputs": [
        {
          "output_type": "execute_result",
          "data": {
            "text/plain": [
              "KMeans(algorithm='auto', copy_x=True, init='k-means++', max_iter=300,\n",
              "       n_clusters=2, n_init=10, n_jobs=None, precompute_distances='auto',\n",
              "       random_state=None, tol=0.0001, verbose=0)"
            ]
          },
          "metadata": {},
          "execution_count": 51
        }
      ]
    },
    {
      "cell_type": "code",
      "metadata": {
        "colab": {
          "base_uri": "https://localhost:8080/"
        },
        "id": "L2aCnCp8er_w",
        "outputId": "078b2402-e6d6-49e1-e62b-e8af980e8ab6"
      },
      "source": [
        "identified_clusters = kmeans.fit_predict(x)\n",
        "identified_clusters"
      ],
      "execution_count": 52,
      "outputs": [
        {
          "output_type": "execute_result",
          "data": {
            "text/plain": [
              "array([1, 1, 1, 1, 0, 1, 1, 1, 1, 1, 1, 1, 1, 1, 1, 1, 1, 1, 1, 0, 0, 0,\n",
              "       1, 1, 0, 0, 1, 1, 1, 1, 1, 1, 1, 1, 1, 1, 1, 1, 1, 0, 0, 1, 1, 0,\n",
              "       1, 1, 1, 1, 1, 1, 1, 1, 1, 1, 1, 1, 1, 1, 1, 0, 0, 0, 0, 0, 0, 0,\n",
              "       0, 0, 0, 0, 0, 0, 0, 1, 1, 0, 0, 0, 0, 0, 0, 0, 0, 0, 0, 0, 0, 0,\n",
              "       0, 0, 0, 0, 0, 0, 0, 1, 0, 0, 0, 0, 0, 0, 0, 0, 0, 0, 0, 0, 0, 0,\n",
              "       0, 0, 0, 0, 0, 0, 0, 0, 0, 0, 0, 0, 0, 0, 0, 0, 0, 0, 0, 0, 0, 0,\n",
              "       0, 0, 0, 0, 0, 0, 0, 0, 0, 0, 0, 0, 0, 0, 0, 0, 0, 0, 0, 0, 0, 0,\n",
              "       0, 0, 0, 0, 0, 0, 0, 0, 0, 0, 0, 0, 0, 0, 0, 0, 0, 0, 0, 0, 0, 0,\n",
              "       0, 0], dtype=int32)"
            ]
          },
          "metadata": {},
          "execution_count": 52
        }
      ]
    },
    {
      "cell_type": "code",
      "metadata": {
        "colab": {
          "base_uri": "https://localhost:8080/",
          "height": 501
        },
        "id": "kO2VCKMFex6i",
        "outputId": "cb4af524-c0b5-4db6-c7ac-18d7d76a8f4c"
      },
      "source": [
        "data_with_clusters = result.copy()\n",
        "data_with_clusters['Clusters'] = identified_clusters\n",
        "plt.figure(figsize=(8, 8))\n",
        "plt.scatter(data_with_clusters['PC1'],data_with_clusters['PC2'],c=data_with_clusters['Clusters'],s=200,marker='+',cmap='rainbow')"
      ],
      "execution_count": 54,
      "outputs": [
        {
          "output_type": "execute_result",
          "data": {
            "text/plain": [
              "<matplotlib.collections.PathCollection at 0x7f10d7392650>"
            ]
          },
          "metadata": {},
          "execution_count": 54
        },
        {
          "output_type": "display_data",
          "data": {
            "image/png": "[encoded data removed]",
            "text/plain": [
              "<Figure size 576x576 with 1 Axes>"
            ]
          },
          "metadata": {
            "needs_background": "light"
          }
        }
      ]
    },
    {
      "cell_type": "code",
      "metadata": {
        "id": "Ze9v_5e6e8Gl"
      },
      "source": [
        "x=result.iloc[:,:2]\n",
        "y=result.iloc[:,2]"
      ],
      "execution_count": 55,
      "outputs": []
    },
    {
      "cell_type": "code",
      "metadata": {
        "colab": {
          "base_uri": "https://localhost:8080/",
          "height": 422
        },
        "id": "evpdB0knfMfd",
        "outputId": "bd482039-3724-41b2-cf0f-b4d7664d40fa"
      },
      "source": [
        "x"
      ],
      "execution_count": 56,
      "outputs": [
        {
          "output_type": "execute_result",
          "data": {
            "text/html": [
              "<div>\n",
              "<style scoped>\n",
              "    .dataframe tbody tr th:only-of-type {\n",
              "        vertical-align: middle;\n",
              "    }\n",
              "\n",
              "    .dataframe tbody tr th {\n",
              "        vertical-align: top;\n",
              "    }\n",
              "\n",
              "    .dataframe thead th {\n",
              "        text-align: right;\n",
              "    }\n",
              "</style>\n",
              "<table border=\"1\" class=\"dataframe\">\n",
              "  <thead>\n",
              "    <tr style=\"text-align: right;\">\n",
              "      <th></th>\n",
              "      <th>PC1</th>\n",
              "      <th>PC2</th>\n",
              "    </tr>\n",
              "  </thead>\n",
              "  <tbody>\n",
              "    <tr>\n",
              "      <th>0</th>\n",
              "      <td>-325.637020</td>\n",
              "      <td>108.881634</td>\n",
              "    </tr>\n",
              "    <tr>\n",
              "      <th>1</th>\n",
              "      <td>-317.812078</td>\n",
              "      <td>113.299757</td>\n",
              "    </tr>\n",
              "    <tr>\n",
              "      <th>2</th>\n",
              "      <td>-355.267740</td>\n",
              "      <td>125.247133</td>\n",
              "    </tr>\n",
              "    <tr>\n",
              "      <th>3</th>\n",
              "      <td>-442.477439</td>\n",
              "      <td>162.736042</td>\n",
              "    </tr>\n",
              "    <tr>\n",
              "      <th>4</th>\n",
              "      <td>-227.486905</td>\n",
              "      <td>64.458236</td>\n",
              "    </tr>\n",
              "    <tr>\n",
              "      <th>...</th>\n",
              "      <td>...</td>\n",
              "      <td>...</td>\n",
              "    </tr>\n",
              "    <tr>\n",
              "      <th>173</th>\n",
              "      <td>-222.628343</td>\n",
              "      <td>69.757825</td>\n",
              "    </tr>\n",
              "    <tr>\n",
              "      <th>174</th>\n",
              "      <td>-226.502009</td>\n",
              "      <td>68.545825</td>\n",
              "    </tr>\n",
              "    <tr>\n",
              "      <th>175</th>\n",
              "      <td>-253.624048</td>\n",
              "      <td>79.335987</td>\n",
              "    </tr>\n",
              "    <tr>\n",
              "      <th>176</th>\n",
              "      <td>-255.586884</td>\n",
              "      <td>79.855396</td>\n",
              "    </tr>\n",
              "    <tr>\n",
              "      <th>177</th>\n",
              "      <td>-170.731645</td>\n",
              "      <td>44.512859</td>\n",
              "    </tr>\n",
              "  </tbody>\n",
              "</table>\n",
              "<p>178 rows × 2 columns</p>\n",
              "</div>"
            ],
            "text/plain": [
              "            PC1         PC2\n",
              "0   -325.637020  108.881634\n",
              "1   -317.812078  113.299757\n",
              "2   -355.267740  125.247133\n",
              "3   -442.477439  162.736042\n",
              "4   -227.486905   64.458236\n",
              "..          ...         ...\n",
              "173 -222.628343   69.757825\n",
              "174 -226.502009   68.545825\n",
              "175 -253.624048   79.335987\n",
              "176 -255.586884   79.855396\n",
              "177 -170.731645   44.512859\n",
              "\n",
              "[178 rows x 2 columns]"
            ]
          },
          "metadata": {},
          "execution_count": 56
        }
      ]
    },
    {
      "cell_type": "code",
      "metadata": {
        "colab": {
          "base_uri": "https://localhost:8080/"
        },
        "id": "Y8PKtl5IfOUm",
        "outputId": "94883adc-dd60-4859-8dbb-eca81a19b20d"
      },
      "source": [
        "y"
      ],
      "execution_count": 57,
      "outputs": [
        {
          "output_type": "execute_result",
          "data": {
            "text/plain": [
              "0      1\n",
              "1      1\n",
              "2      1\n",
              "3      1\n",
              "4      1\n",
              "      ..\n",
              "173    3\n",
              "174    3\n",
              "175    3\n",
              "176    3\n",
              "177    3\n",
              "Name: Wine, Length: 178, dtype: int64"
            ]
          },
          "metadata": {},
          "execution_count": 57
        }
      ]
    },
    {
      "cell_type": "code",
      "metadata": {
        "id": "r5iJQso3fPlg"
      },
      "source": [
        "from sklearn.model_selection import train_test_split\n",
        "X_train,X_test,Y_train,Y_test= train_test_split(x,y, test_size=0.2, random_state=0)"
      ],
      "execution_count": 58,
      "outputs": []
    },
    {
      "cell_type": "code",
      "metadata": {
        "colab": {
          "base_uri": "https://localhost:8080/"
        },
        "id": "3bEGJQXefYiT",
        "outputId": "eba50ee4-4aea-4151-f42b-c7f003493062"
      },
      "source": [
        "from sklearn.linear_model import LinearRegression\n",
        "regressor=LinearRegression()\n",
        "regressor.fit(X_train,Y_train)"
      ],
      "execution_count": 59,
      "outputs": [
        {
          "output_type": "execute_result",
          "data": {
            "text/plain": [
              "LinearRegression(copy_X=True, fit_intercept=True, n_jobs=None, normalize=False)"
            ]
          },
          "metadata": {},
          "execution_count": 59
        }
      ]
    },
    {
      "cell_type": "code",
      "metadata": {
        "id": "uIbge0NTfkDO"
      },
      "source": [
        "y_pred=regressor.predict(X_test)"
      ],
      "execution_count": 60,
      "outputs": []
    },
    {
      "cell_type": "code",
      "metadata": {
        "id": "AaoYgy_Pfmqf"
      },
      "source": [
        "from sklearn.metrics import r2_score\n",
        "score=r2_score(Y_test,y_pred)"
      ],
      "execution_count": 61,
      "outputs": []
    },
    {
      "cell_type": "code",
      "metadata": {
        "colab": {
          "base_uri": "https://localhost:8080/"
        },
        "id": "kjxMLxnpfpP-",
        "outputId": "c8ade9e6-ddd6-4867-eb7b-9173ac6f2d18"
      },
      "source": [
        "score"
      ],
      "execution_count": 62,
      "outputs": [
        {
          "output_type": "execute_result",
          "data": {
            "text/plain": [
              "0.45697562126922187"
            ]
          },
          "metadata": {},
          "execution_count": 62
        }
      ]
    },
    {
      "cell_type": "code",
      "metadata": {
        "id": "5kvfoev0ftV8"
      },
      "source": [
        "from sklearn.linear_model import LogisticRegression"
      ],
      "execution_count": 63,
      "outputs": []
    },
    {
      "cell_type": "code",
      "metadata": {
        "id": "lWXbbYvsfwDL"
      },
      "source": [
        "model= LogisticRegression()"
      ],
      "execution_count": 64,
      "outputs": []
    },
    {
      "cell_type": "code",
      "metadata": {
        "colab": {
          "base_uri": "https://localhost:8080/"
        },
        "id": "oZpPPWyCfyYB",
        "outputId": "c594d461-82b5-4eed-af5b-522e51211a4b"
      },
      "source": [
        "model.fit(X_train,Y_train)"
      ],
      "execution_count": 65,
      "outputs": [
        {
          "output_type": "execute_result",
          "data": {
            "text/plain": [
              "LogisticRegression(C=1.0, class_weight=None, dual=False, fit_intercept=True,\n",
              "                   intercept_scaling=1, l1_ratio=None, max_iter=100,\n",
              "                   multi_class='auto', n_jobs=None, penalty='l2',\n",
              "                   random_state=None, solver='lbfgs', tol=0.0001, verbose=0,\n",
              "                   warm_start=False)"
            ]
          },
          "metadata": {},
          "execution_count": 65
        }
      ]
    },
    {
      "cell_type": "code",
      "metadata": {
        "colab": {
          "base_uri": "https://localhost:8080/"
        },
        "id": "HEBMN1ovf1k5",
        "outputId": "9f14122c-07c0-4ce0-e885-5de98f706daa"
      },
      "source": [
        "model.predict(X_test)"
      ],
      "execution_count": 66,
      "outputs": [
        {
          "output_type": "execute_result",
          "data": {
            "text/plain": [
              "array([1, 2, 2, 1, 2, 2, 1, 2, 2, 2, 3, 2, 1, 3, 3, 2, 1, 1, 2, 1, 3, 1,\n",
              "       2, 3, 3, 2, 2, 2, 2, 3, 1, 1, 2, 1, 1, 1])"
            ]
          },
          "metadata": {},
          "execution_count": 66
        }
      ]
    },
    {
      "cell_type": "code",
      "metadata": {
        "colab": {
          "base_uri": "https://localhost:8080/"
        },
        "id": "fLE1q0gef47c",
        "outputId": "248015a4-f8ea-45ce-b195-e37bf555f965"
      },
      "source": [
        "model.score(X_test,Y_test)"
      ],
      "execution_count": 67,
      "outputs": [
        {
          "output_type": "execute_result",
          "data": {
            "text/plain": [
              "0.7777777777777778"
            ]
          },
          "metadata": {},
          "execution_count": 67
        }
      ]
    },
    {
      "cell_type": "code",
      "metadata": {
        "id": "F5EM6GyAf8gc"
      },
      "source": [
        ""
      ],
      "execution_count": null,
      "outputs": []
    }
  ]
}